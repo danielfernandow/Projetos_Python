{
 "cells": [
  {
   "cell_type": "code",
   "execution_count": 20,
   "metadata": {},
   "outputs": [],
   "source": [
    "import numpy as np\n",
    "import matplotlib as plt"
   ]
  },
  {
   "cell_type": "code",
   "execution_count": 17,
   "metadata": {},
   "outputs": [],
   "source": [
    "iteracoes = 1000\n",
    "m = 7\n",
    "b = 1\n",
    "L = 0.000001 # learning rate\n",
    "X = 1\n",
    "y = 2\n"
   ]
  },
  {
   "cell_type": "code",
   "execution_count": 18,
   "metadata": {},
   "outputs": [],
   "source": [
    "for i in range(iteracoes):\n",
    "    Y_pred = m*X + b # valor atual da reta\n",
    "    derivadam = np.sum(2*X*(Y_pred - y)) # derivada da funcao de custo em relacao a m\n",
    "    derivadab = np.sum(2*(Y_pred - y)) # derivada em funcao de custo em relacao a b\n",
    "    m = m + derivadam*L # atualiza m\n",
    "    b = b + derivadab*L # atualiza b\n"
   ]
  },
  {
   "cell_type": "code",
   "execution_count": 19,
   "metadata": {},
   "outputs": [
    {
     "name": "stdout",
     "output_type": "stream",
     "text": [
      "valor m: 7.012024007935891, valor b: 1.0120240079358958\n"
     ]
    }
   ],
   "source": [
    "print(f'valor m: {m}, valor b: {b}')"
   ]
  }
 ],
 "metadata": {
  "kernelspec": {
   "display_name": "Python 3",
   "language": "python",
   "name": "python3"
  },
  "language_info": {
   "codemirror_mode": {
    "name": "ipython",
    "version": 3
   },
   "file_extension": ".py",
   "mimetype": "text/x-python",
   "name": "python",
   "nbconvert_exporter": "python",
   "pygments_lexer": "ipython3",
   "version": "3.6.9"
  }
 },
 "nbformat": 4,
 "nbformat_minor": 4
}
